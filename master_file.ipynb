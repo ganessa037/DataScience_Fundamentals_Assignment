{
 "cells": [
  {
   "cell_type": "markdown",
   "id": "0",
   "metadata": {},
   "source": [
    "### Import necessary libraries"
   ]
  },
  {
   "cell_type": "code",
   "execution_count": 1,
   "id": "1",
   "metadata": {},
   "outputs": [],
   "source": [
    "import pandas as pd\n",
    "import numpy as np\n",
    "import seaborn as sns\n",
    "import matplotlib.pyplot as plt\n",
    "import plotly.express as px"
   ]
  },
  {
   "cell_type": "markdown",
   "id": "2",
   "metadata": {},
   "source": [
    "### Import dataset"
   ]
  },
  {
   "cell_type": "code",
   "execution_count": 2,
   "id": "3",
   "metadata": {},
   "outputs": [
    {
     "data": {
      "text/html": [
       "<div>\n",
       "<style scoped>\n",
       "    .dataframe tbody tr th:only-of-type {\n",
       "        vertical-align: middle;\n",
       "    }\n",
       "\n",
       "    .dataframe tbody tr th {\n",
       "        vertical-align: top;\n",
       "    }\n",
       "\n",
       "    .dataframe thead th {\n",
       "        text-align: right;\n",
       "    }\n",
       "</style>\n",
       "<table border=\"1\" class=\"dataframe\">\n",
       "  <thead>\n",
       "    <tr style=\"text-align: right;\">\n",
       "      <th></th>\n",
       "      <th>name</th>\n",
       "      <th>id</th>\n",
       "      <th>nametype</th>\n",
       "      <th>recclass</th>\n",
       "      <th>mass (g)</th>\n",
       "      <th>fall</th>\n",
       "      <th>year</th>\n",
       "      <th>reclat</th>\n",
       "      <th>reclong</th>\n",
       "      <th>GeoLocation</th>\n",
       "      <th>Unnamed: 10</th>\n",
       "    </tr>\n",
       "  </thead>\n",
       "  <tbody>\n",
       "    <tr>\n",
       "      <th>0</th>\n",
       "      <td>Aachen</td>\n",
       "      <td>1</td>\n",
       "      <td>Valid</td>\n",
       "      <td>L5</td>\n",
       "      <td>21.0</td>\n",
       "      <td>Fell</td>\n",
       "      <td>1880.0</td>\n",
       "      <td>50.77500</td>\n",
       "      <td>6.08333</td>\n",
       "      <td>(50.775, 6.08333)</td>\n",
       "      <td>NaN</td>\n",
       "    </tr>\n",
       "    <tr>\n",
       "      <th>1</th>\n",
       "      <td>Aarhus</td>\n",
       "      <td>2</td>\n",
       "      <td>Valid</td>\n",
       "      <td>H6</td>\n",
       "      <td>720.0</td>\n",
       "      <td>Fell</td>\n",
       "      <td>1951.0</td>\n",
       "      <td>56.18333</td>\n",
       "      <td>10.23333</td>\n",
       "      <td>(56.18333, 10.23333)</td>\n",
       "      <td>NaN</td>\n",
       "    </tr>\n",
       "    <tr>\n",
       "      <th>2</th>\n",
       "      <td>Abee</td>\n",
       "      <td>6</td>\n",
       "      <td>Valid</td>\n",
       "      <td>EH4</td>\n",
       "      <td>107000.0</td>\n",
       "      <td>Fell</td>\n",
       "      <td>1952.0</td>\n",
       "      <td>54.21667</td>\n",
       "      <td>-113.00000</td>\n",
       "      <td>(54.21667, -113.0)</td>\n",
       "      <td>NaN</td>\n",
       "    </tr>\n",
       "    <tr>\n",
       "      <th>3</th>\n",
       "      <td>Acapulco</td>\n",
       "      <td>10</td>\n",
       "      <td>Valid</td>\n",
       "      <td>Acapulcoite</td>\n",
       "      <td>1914.0</td>\n",
       "      <td>Fell</td>\n",
       "      <td>1976.0</td>\n",
       "      <td>16.88333</td>\n",
       "      <td>-99.90000</td>\n",
       "      <td>(16.88333, -99.9)</td>\n",
       "      <td>NaN</td>\n",
       "    </tr>\n",
       "    <tr>\n",
       "      <th>4</th>\n",
       "      <td>Achiras</td>\n",
       "      <td>370</td>\n",
       "      <td>Valid</td>\n",
       "      <td>L6</td>\n",
       "      <td>780.0</td>\n",
       "      <td>Fell</td>\n",
       "      <td>1902.0</td>\n",
       "      <td>-33.16667</td>\n",
       "      <td>-64.95000</td>\n",
       "      <td>(-33.16667, -64.95)</td>\n",
       "      <td>NaN</td>\n",
       "    </tr>\n",
       "  </tbody>\n",
       "</table>\n",
       "</div>"
      ],
      "text/plain": [
       "       name   id nametype     recclass  mass (g)  fall    year    reclat  \\\n",
       "0    Aachen    1    Valid           L5      21.0  Fell  1880.0  50.77500   \n",
       "1    Aarhus    2    Valid           H6     720.0  Fell  1951.0  56.18333   \n",
       "2      Abee    6    Valid          EH4  107000.0  Fell  1952.0  54.21667   \n",
       "3  Acapulco   10    Valid  Acapulcoite    1914.0  Fell  1976.0  16.88333   \n",
       "4   Achiras  370    Valid           L6     780.0  Fell  1902.0 -33.16667   \n",
       "\n",
       "     reclong           GeoLocation  Unnamed: 10  \n",
       "0    6.08333     (50.775, 6.08333)          NaN  \n",
       "1   10.23333  (56.18333, 10.23333)          NaN  \n",
       "2 -113.00000    (54.21667, -113.0)          NaN  \n",
       "3  -99.90000     (16.88333, -99.9)          NaN  \n",
       "4  -64.95000   (-33.16667, -64.95)          NaN  "
      ]
     },
     "execution_count": 2,
     "metadata": {},
     "output_type": "execute_result"
    }
   ],
   "source": [
    "df = pd.read_csv('Meteorite_Landings.csv')\n",
    "df.head()"
   ]
  },
  {
   "cell_type": "markdown",
   "id": "4",
   "metadata": {},
   "source": [
    "### Details about the data"
   ]
  },
  {
   "cell_type": "code",
   "execution_count": 3,
   "id": "ffc12894-5950-4167-bdbe-8b39abc8f5b5",
   "metadata": {},
   "outputs": [
    {
     "name": "stdout",
     "output_type": "stream",
     "text": [
      "<class 'pandas.core.frame.DataFrame'>\n",
      "RangeIndex: 45716 entries, 0 to 45715\n",
      "Data columns (total 11 columns):\n",
      " #   Column       Non-Null Count  Dtype  \n",
      "---  ------       --------------  -----  \n",
      " 0   name         45716 non-null  object \n",
      " 1   id           45716 non-null  int64  \n",
      " 2   nametype     45716 non-null  object \n",
      " 3   recclass     45716 non-null  object \n",
      " 4   mass (g)     45585 non-null  float64\n",
      " 5   fall         45716 non-null  object \n",
      " 6   year         45425 non-null  float64\n",
      " 7   reclat       38401 non-null  float64\n",
      " 8   reclong      38401 non-null  float64\n",
      " 9   GeoLocation  38401 non-null  object \n",
      " 10  Unnamed: 10  0 non-null      float64\n",
      "dtypes: float64(5), int64(1), object(5)\n",
      "memory usage: 3.8+ MB\n"
     ]
    },
    {
     "data": {
      "text/html": [
       "<div>\n",
       "<style scoped>\n",
       "    .dataframe tbody tr th:only-of-type {\n",
       "        vertical-align: middle;\n",
       "    }\n",
       "\n",
       "    .dataframe tbody tr th {\n",
       "        vertical-align: top;\n",
       "    }\n",
       "\n",
       "    .dataframe thead th {\n",
       "        text-align: right;\n",
       "    }\n",
       "</style>\n",
       "<table border=\"1\" class=\"dataframe\">\n",
       "  <thead>\n",
       "    <tr style=\"text-align: right;\">\n",
       "      <th></th>\n",
       "      <th>id</th>\n",
       "      <th>mass (g)</th>\n",
       "      <th>year</th>\n",
       "      <th>reclat</th>\n",
       "      <th>reclong</th>\n",
       "      <th>Unnamed: 10</th>\n",
       "    </tr>\n",
       "  </thead>\n",
       "  <tbody>\n",
       "    <tr>\n",
       "      <th>count</th>\n",
       "      <td>45716.000000</td>\n",
       "      <td>4.558500e+04</td>\n",
       "      <td>45425.000000</td>\n",
       "      <td>38401.000000</td>\n",
       "      <td>38401.000000</td>\n",
       "      <td>0.0</td>\n",
       "    </tr>\n",
       "    <tr>\n",
       "      <th>mean</th>\n",
       "      <td>26889.735104</td>\n",
       "      <td>1.327808e+04</td>\n",
       "      <td>1991.828817</td>\n",
       "      <td>-39.122580</td>\n",
       "      <td>61.074319</td>\n",
       "      <td>NaN</td>\n",
       "    </tr>\n",
       "    <tr>\n",
       "      <th>std</th>\n",
       "      <td>16860.683030</td>\n",
       "      <td>5.749889e+05</td>\n",
       "      <td>25.052766</td>\n",
       "      <td>46.378511</td>\n",
       "      <td>80.647298</td>\n",
       "      <td>NaN</td>\n",
       "    </tr>\n",
       "    <tr>\n",
       "      <th>min</th>\n",
       "      <td>1.000000</td>\n",
       "      <td>0.000000e+00</td>\n",
       "      <td>860.000000</td>\n",
       "      <td>-87.366670</td>\n",
       "      <td>-165.433330</td>\n",
       "      <td>NaN</td>\n",
       "    </tr>\n",
       "    <tr>\n",
       "      <th>25%</th>\n",
       "      <td>12688.750000</td>\n",
       "      <td>7.200000e+00</td>\n",
       "      <td>1987.000000</td>\n",
       "      <td>-76.714240</td>\n",
       "      <td>0.000000</td>\n",
       "      <td>NaN</td>\n",
       "    </tr>\n",
       "    <tr>\n",
       "      <th>50%</th>\n",
       "      <td>24261.500000</td>\n",
       "      <td>3.260000e+01</td>\n",
       "      <td>1998.000000</td>\n",
       "      <td>-71.500000</td>\n",
       "      <td>35.666670</td>\n",
       "      <td>NaN</td>\n",
       "    </tr>\n",
       "    <tr>\n",
       "      <th>75%</th>\n",
       "      <td>40656.750000</td>\n",
       "      <td>2.026000e+02</td>\n",
       "      <td>2003.000000</td>\n",
       "      <td>0.000000</td>\n",
       "      <td>157.166670</td>\n",
       "      <td>NaN</td>\n",
       "    </tr>\n",
       "    <tr>\n",
       "      <th>max</th>\n",
       "      <td>57458.000000</td>\n",
       "      <td>6.000000e+07</td>\n",
       "      <td>2101.000000</td>\n",
       "      <td>81.166670</td>\n",
       "      <td>354.473330</td>\n",
       "      <td>NaN</td>\n",
       "    </tr>\n",
       "  </tbody>\n",
       "</table>\n",
       "</div>"
      ],
      "text/plain": [
       "                 id      mass (g)          year        reclat       reclong  \\\n",
       "count  45716.000000  4.558500e+04  45425.000000  38401.000000  38401.000000   \n",
       "mean   26889.735104  1.327808e+04   1991.828817    -39.122580     61.074319   \n",
       "std    16860.683030  5.749889e+05     25.052766     46.378511     80.647298   \n",
       "min        1.000000  0.000000e+00    860.000000    -87.366670   -165.433330   \n",
       "25%    12688.750000  7.200000e+00   1987.000000    -76.714240      0.000000   \n",
       "50%    24261.500000  3.260000e+01   1998.000000    -71.500000     35.666670   \n",
       "75%    40656.750000  2.026000e+02   2003.000000      0.000000    157.166670   \n",
       "max    57458.000000  6.000000e+07   2101.000000     81.166670    354.473330   \n",
       "\n",
       "       Unnamed: 10  \n",
       "count          0.0  \n",
       "mean           NaN  \n",
       "std            NaN  \n",
       "min            NaN  \n",
       "25%            NaN  \n",
       "50%            NaN  \n",
       "75%            NaN  \n",
       "max            NaN  "
      ]
     },
     "execution_count": 3,
     "metadata": {},
     "output_type": "execute_result"
    }
   ],
   "source": [
    "df.info()\n",
    "df.describe()"
   ]
  },
  {
   "cell_type": "code",
   "execution_count": 4,
   "id": "6",
   "metadata": {},
   "outputs": [
    {
     "name": "stdout",
     "output_type": "stream",
     "text": [
      "Column Names: ['name', 'id', 'nametype', 'recclass', 'mass (g)', 'fall', 'year', 'reclat', 'reclong', 'GeoLocation', 'Unnamed: 10']\n",
      "The DataFrame has 45716 rows and 11 columns.\n"
     ]
    }
   ],
   "source": [
    "print(\"Column Names:\", df.columns.tolist())\n",
    "rows, cols = df.shape\n",
    "\n",
    "#Before Cleaning\n",
    "print(f\"The DataFrame has {rows} rows and {cols} columns.\")"
   ]
  },
  {
   "cell_type": "code",
   "execution_count": 5,
   "id": "53190bb4-f318-47c0-868c-dbcd01c847da",
   "metadata": {},
   "outputs": [
    {
     "data": {
      "text/html": [
       "<iframe\n",
       "    scrolling=\"no\"\n",
       "    width=\"100%\"\n",
       "    height=\"545px\"\n",
       "    src=\"iframe_figures/figure_5.html\"\n",
       "    frameborder=\"0\"\n",
       "    allowfullscreen\n",
       "></iframe>\n"
      ]
     },
     "metadata": {},
     "output_type": "display_data"
    }
   ],
   "source": [
    "from plotly import io\n",
    "\n",
    "io.renderers.default = 'iframe'\n",
    "px.bar(data_frame=df['recclass'].value_counts().to_frame().reset_index().head(n=40), x='recclass', y='count')"
   ]
  },
  {
   "cell_type": "markdown",
   "id": "49c77efb-6042-42a0-a607-f1ab6b46826d",
   "metadata": {},
   "source": [
    "### Group recclass and fall for Q1"
   ]
  },
  {
   "cell_type": "code",
   "execution_count": 6,
   "id": "48ad6081-89ac-45aa-a453-7a40e3ffe2f6",
   "metadata": {},
   "outputs": [
    {
     "data": {
      "image/png": "[encoded data removed]",
      "text/plain": [
       "<Figure size 1200x600 with 1 Axes>"
      ]
     },
     "metadata": {},
     "output_type": "display_data"
    },
    {
     "data": {
      "image/png": "[encoded data removed]",
      "text/plain": [
       "<Figure size 1200x600 with 1 Axes>"
      ]
     },
     "metadata": {},
     "output_type": "display_data"
    }
   ],
   "source": [
    "# Group recclass and fall\n",
    "recclass_fall_counts = df.groupby(['recclass', 'fall']).size().reset_index(name='count')\n",
    "\n",
    "recclass_pivot = recclass_fall_counts.pivot(index='recclass', columns='fall', values='count').fillna(0)\n",
    "\n",
    "recclass_pivot['total'] = recclass_pivot.sum(axis=1)\n",
    "recclass_pivot = recclass_pivot.sort_values(by='total', ascending=False)\n",
    "\n",
    "#show first 20 only because it will be too much or and messy to show all\n",
    "recclass_pivot.head(20)[['Fell', 'Found']].plot(kind='bar', stacked=True, figsize=(12, 6))\n",
    "plt.title('Distribution of Meteorite Classifications by Fall Type')\n",
    "plt.xlabel('Meteorite Class (recclass)')\n",
    "plt.ylabel('Count')\n",
    "plt.xticks(rotation=90)\n",
    "plt.tight_layout()\n",
    "plt.show()\n",
    "\n",
    "#Percentage comparison\n",
    "recclass_pivot['Fell_pct'] = recclass_pivot['Fell'] / recclass_pivot['total'] * 100\n",
    "recclass_pivot['Found_pct'] = recclass_pivot['Found'] / recclass_pivot['total'] * 100\n",
    "\n",
    "recclass_pivot[['Fell_pct', 'Found_pct']].head(20).plot(kind='bar', stacked=True, figsize=(12,6), colormap='viridis')\n",
    "plt.title('Percentage Distribution of Fall Types by Classification')\n",
    "plt.ylabel('Percentage')\n",
    "plt.xticks(rotation=90)\n",
    "plt.tight_layout()\n",
    "plt.show()"
   ]
  },
  {
   "cell_type": "markdown",
   "id": "44dd2425-b8b7-416f-ba21-d20ea0f94d10",
   "metadata": {},
   "source": [
    "### Interactive Figures for fun?"
   ]
  },
  {
   "cell_type": "code",
   "execution_count": 7,
   "id": "05c35f83-e3fd-48e6-905d-38dcce91fa59",
   "metadata": {},
   "outputs": [
    {
     "data": {
      "text/html": [
       "<iframe\n",
       "    scrolling=\"no\"\n",
       "    width=\"100%\"\n",
       "    height=\"545px\"\n",
       "    src=\"iframe_figures/figure_7.html\"\n",
       "    frameborder=\"0\"\n",
       "    allowfullscreen\n",
       "></iframe>\n"
      ]
     },
     "metadata": {},
     "output_type": "display_data"
    }
   ],
   "source": [
    "top20 = recclass_pivot.head(20).reset_index()\n",
    "fig_bar = px.bar(top20, x='recclass', y=['Fell', 'Found'], \n",
    "             title='Top 20 Meteorite Classifications by Fall Type',\n",
    "             labels={'value': 'Count', 'recclass': 'Classification'}, \n",
    "             barmode='stack')\n",
    "fig_bar.show()"
   ]
  },
  {
   "cell_type": "code",
   "execution_count": 8,
   "id": "b9aaf65b-f952-40d8-8aec-baa0bd1e3e08",
   "metadata": {},
   "outputs": [
    {
     "data": {
      "text/html": [
       "<iframe\n",
       "    scrolling=\"no\"\n",
       "    width=\"100%\"\n",
       "    height=\"545px\"\n",
       "    src=\"iframe_figures/figure_8.html\"\n",
       "    frameborder=\"0\"\n",
       "    allowfullscreen\n",
       "></iframe>\n"
      ]
     },
     "metadata": {},
     "output_type": "display_data"
    }
   ],
   "source": [
    "\n",
    "\n",
    "fig_tree = px.treemap(recclass_fall_counts[recclass_fall_counts['recclass'].isin(top20['recclass'])],\n",
    "                 path=['fall', 'recclass'],\n",
    "                 values='count',\n",
    "                 title='Treemap of Meteorite Classifications by Fall Type')\n",
    "fig_tree.show()\n"
   ]
  },
  {
   "cell_type": "markdown",
   "id": "7",
   "metadata": {},
   "source": [
    "## Data Cleaning and Preprocessing"
   ]
  },
  {
   "cell_type": "code",
   "execution_count": 9,
   "id": "8",
   "metadata": {},
   "outputs": [
    {
     "data": {
      "text/plain": [
       "name               0\n",
       "id                 0\n",
       "nametype           0\n",
       "recclass           0\n",
       "mass (g)         131\n",
       "fall               0\n",
       "year             291\n",
       "reclat          7315\n",
       "reclong         7315\n",
       "GeoLocation     7315\n",
       "Unnamed: 10    45716\n",
       "dtype: int64"
      ]
     },
     "execution_count": 9,
     "metadata": {},
     "output_type": "execute_result"
    }
   ],
   "source": [
    "# Check for missing values\n",
    "df.isnull().sum()"
   ]
  },
  {
   "cell_type": "code",
   "execution_count": 10,
   "id": "9",
   "metadata": {},
   "outputs": [
    {
     "data": {
      "text/html": [
       "<div>\n",
       "<style scoped>\n",
       "    .dataframe tbody tr th:only-of-type {\n",
       "        vertical-align: middle;\n",
       "    }\n",
       "\n",
       "    .dataframe tbody tr th {\n",
       "        vertical-align: top;\n",
       "    }\n",
       "\n",
       "    .dataframe thead th {\n",
       "        text-align: right;\n",
       "    }\n",
       "</style>\n",
       "<table border=\"1\" class=\"dataframe\">\n",
       "  <thead>\n",
       "    <tr style=\"text-align: right;\">\n",
       "      <th></th>\n",
       "      <th>name</th>\n",
       "      <th>id</th>\n",
       "      <th>nametype</th>\n",
       "      <th>recclass</th>\n",
       "      <th>mass (g)</th>\n",
       "      <th>fall</th>\n",
       "      <th>year</th>\n",
       "      <th>reclat</th>\n",
       "      <th>reclong</th>\n",
       "      <th>GeoLocation</th>\n",
       "    </tr>\n",
       "  </thead>\n",
       "  <tbody>\n",
       "    <tr>\n",
       "      <th>0</th>\n",
       "      <td>Aachen</td>\n",
       "      <td>1</td>\n",
       "      <td>Valid</td>\n",
       "      <td>L5</td>\n",
       "      <td>21.0</td>\n",
       "      <td>Fell</td>\n",
       "      <td>1880.0</td>\n",
       "      <td>50.77500</td>\n",
       "      <td>6.08333</td>\n",
       "      <td>(50.775, 6.08333)</td>\n",
       "    </tr>\n",
       "    <tr>\n",
       "      <th>1</th>\n",
       "      <td>Aarhus</td>\n",
       "      <td>2</td>\n",
       "      <td>Valid</td>\n",
       "      <td>H6</td>\n",
       "      <td>720.0</td>\n",
       "      <td>Fell</td>\n",
       "      <td>1951.0</td>\n",
       "      <td>56.18333</td>\n",
       "      <td>10.23333</td>\n",
       "      <td>(56.18333, 10.23333)</td>\n",
       "    </tr>\n",
       "    <tr>\n",
       "      <th>2</th>\n",
       "      <td>Abee</td>\n",
       "      <td>6</td>\n",
       "      <td>Valid</td>\n",
       "      <td>EH4</td>\n",
       "      <td>107000.0</td>\n",
       "      <td>Fell</td>\n",
       "      <td>1952.0</td>\n",
       "      <td>54.21667</td>\n",
       "      <td>-113.00000</td>\n",
       "      <td>(54.21667, -113.0)</td>\n",
       "    </tr>\n",
       "    <tr>\n",
       "      <th>3</th>\n",
       "      <td>Acapulco</td>\n",
       "      <td>10</td>\n",
       "      <td>Valid</td>\n",
       "      <td>Acapulcoite</td>\n",
       "      <td>1914.0</td>\n",
       "      <td>Fell</td>\n",
       "      <td>1976.0</td>\n",
       "      <td>16.88333</td>\n",
       "      <td>-99.90000</td>\n",
       "      <td>(16.88333, -99.9)</td>\n",
       "    </tr>\n",
       "    <tr>\n",
       "      <th>4</th>\n",
       "      <td>Achiras</td>\n",
       "      <td>370</td>\n",
       "      <td>Valid</td>\n",
       "      <td>L6</td>\n",
       "      <td>780.0</td>\n",
       "      <td>Fell</td>\n",
       "      <td>1902.0</td>\n",
       "      <td>-33.16667</td>\n",
       "      <td>-64.95000</td>\n",
       "      <td>(-33.16667, -64.95)</td>\n",
       "    </tr>\n",
       "    <tr>\n",
       "      <th>...</th>\n",
       "      <td>...</td>\n",
       "      <td>...</td>\n",
       "      <td>...</td>\n",
       "      <td>...</td>\n",
       "      <td>...</td>\n",
       "      <td>...</td>\n",
       "      <td>...</td>\n",
       "      <td>...</td>\n",
       "      <td>...</td>\n",
       "      <td>...</td>\n",
       "    </tr>\n",
       "    <tr>\n",
       "      <th>45711</th>\n",
       "      <td>Zillah 002</td>\n",
       "      <td>31356</td>\n",
       "      <td>Valid</td>\n",
       "      <td>Eucrite</td>\n",
       "      <td>172.0</td>\n",
       "      <td>Found</td>\n",
       "      <td>1990.0</td>\n",
       "      <td>29.03700</td>\n",
       "      <td>17.01850</td>\n",
       "      <td>(29.037, 17.0185)</td>\n",
       "    </tr>\n",
       "    <tr>\n",
       "      <th>45712</th>\n",
       "      <td>Zinder</td>\n",
       "      <td>30409</td>\n",
       "      <td>Valid</td>\n",
       "      <td>Pallasite, ungrouped</td>\n",
       "      <td>46.0</td>\n",
       "      <td>Found</td>\n",
       "      <td>1999.0</td>\n",
       "      <td>13.78333</td>\n",
       "      <td>8.96667</td>\n",
       "      <td>(13.78333, 8.96667)</td>\n",
       "    </tr>\n",
       "    <tr>\n",
       "      <th>45713</th>\n",
       "      <td>Zlin</td>\n",
       "      <td>30410</td>\n",
       "      <td>Valid</td>\n",
       "      <td>H4</td>\n",
       "      <td>3.3</td>\n",
       "      <td>Found</td>\n",
       "      <td>1939.0</td>\n",
       "      <td>49.25000</td>\n",
       "      <td>17.66667</td>\n",
       "      <td>(49.25, 17.66667)</td>\n",
       "    </tr>\n",
       "    <tr>\n",
       "      <th>45714</th>\n",
       "      <td>Zubkovsky</td>\n",
       "      <td>31357</td>\n",
       "      <td>Valid</td>\n",
       "      <td>L6</td>\n",
       "      <td>2167.0</td>\n",
       "      <td>Found</td>\n",
       "      <td>2003.0</td>\n",
       "      <td>49.78917</td>\n",
       "      <td>41.50460</td>\n",
       "      <td>(49.78917, 41.5046)</td>\n",
       "    </tr>\n",
       "    <tr>\n",
       "      <th>45715</th>\n",
       "      <td>Zulu Queen</td>\n",
       "      <td>30414</td>\n",
       "      <td>Valid</td>\n",
       "      <td>L3.7</td>\n",
       "      <td>200.0</td>\n",
       "      <td>Found</td>\n",
       "      <td>1976.0</td>\n",
       "      <td>33.98333</td>\n",
       "      <td>-115.68333</td>\n",
       "      <td>(33.98333, -115.68333)</td>\n",
       "    </tr>\n",
       "  </tbody>\n",
       "</table>\n",
       "<p>38115 rows × 10 columns</p>\n",
       "</div>"
      ],
      "text/plain": [
       "             name     id nametype              recclass  mass (g)   fall  \\\n",
       "0          Aachen      1    Valid                    L5      21.0   Fell   \n",
       "1          Aarhus      2    Valid                    H6     720.0   Fell   \n",
       "2            Abee      6    Valid                   EH4  107000.0   Fell   \n",
       "3        Acapulco     10    Valid           Acapulcoite    1914.0   Fell   \n",
       "4         Achiras    370    Valid                    L6     780.0   Fell   \n",
       "...           ...    ...      ...                   ...       ...    ...   \n",
       "45711  Zillah 002  31356    Valid               Eucrite     172.0  Found   \n",
       "45712      Zinder  30409    Valid  Pallasite, ungrouped      46.0  Found   \n",
       "45713        Zlin  30410    Valid                    H4       3.3  Found   \n",
       "45714   Zubkovsky  31357    Valid                    L6    2167.0  Found   \n",
       "45715  Zulu Queen  30414    Valid                  L3.7     200.0  Found   \n",
       "\n",
       "         year    reclat    reclong             GeoLocation  \n",
       "0      1880.0  50.77500    6.08333       (50.775, 6.08333)  \n",
       "1      1951.0  56.18333   10.23333    (56.18333, 10.23333)  \n",
       "2      1952.0  54.21667 -113.00000      (54.21667, -113.0)  \n",
       "3      1976.0  16.88333  -99.90000       (16.88333, -99.9)  \n",
       "4      1902.0 -33.16667  -64.95000     (-33.16667, -64.95)  \n",
       "...       ...       ...        ...                     ...  \n",
       "45711  1990.0  29.03700   17.01850       (29.037, 17.0185)  \n",
       "45712  1999.0  13.78333    8.96667     (13.78333, 8.96667)  \n",
       "45713  1939.0  49.25000   17.66667       (49.25, 17.66667)  \n",
       "45714  2003.0  49.78917   41.50460     (49.78917, 41.5046)  \n",
       "45715  1976.0  33.98333 -115.68333  (33.98333, -115.68333)  \n",
       "\n",
       "[38115 rows x 10 columns]"
      ]
     },
     "execution_count": 10,
     "metadata": {},
     "output_type": "execute_result"
    }
   ],
   "source": [
    "# Drop the 'Unnamed: 10' column, seems all the row's are missing values\n",
    "df.drop(columns=['Unnamed: 10'], inplace=True)\n",
    "\n",
    "# Handling missing values\n",
    "df = df.dropna(subset=['mass (g)', 'year', 'reclat', 'reclong'])\n",
    "\n",
    "df"
   ]
  },
  {
   "cell_type": "code",
   "execution_count": 11,
   "id": "10",
   "metadata": {},
   "outputs": [
    {
     "name": "stdout",
     "output_type": "stream",
     "text": [
      "<class 'pandas.core.frame.DataFrame'>\n",
      "Index: 38115 entries, 0 to 45715\n",
      "Data columns (total 10 columns):\n",
      " #   Column       Non-Null Count  Dtype  \n",
      "---  ------       --------------  -----  \n",
      " 0   name         38115 non-null  object \n",
      " 1   id           38115 non-null  int64  \n",
      " 2   nametype     38115 non-null  object \n",
      " 3   recclass     38115 non-null  object \n",
      " 4   mass (g)     38115 non-null  float64\n",
      " 5   fall         38115 non-null  object \n",
      " 6   year         38115 non-null  float64\n",
      " 7   reclat       38115 non-null  float64\n",
      " 8   reclong      38115 non-null  float64\n",
      " 9   GeoLocation  38115 non-null  object \n",
      "dtypes: float64(4), int64(1), object(5)\n",
      "memory usage: 3.2+ MB\n"
     ]
    }
   ],
   "source": [
    "df.isnull().sum()\n",
    "df.info()"
   ]
  },
  {
   "cell_type": "code",
   "execution_count": 12,
   "id": "11",
   "metadata": {},
   "outputs": [
    {
     "name": "stdout",
     "output_type": "stream",
     "text": [
      "DataFrame Shape Summary\n",
      "------------------------------\n",
      "Before Cleaning : 45,716 rows × 11 columns\n",
      "After Cleaning  : 38,115 rows × 10 columns\n"
     ]
    }
   ],
   "source": [
    "# After cleaning\n",
    "af_rows, af_cols = df.shape\n",
    "\n",
    "# DataFrame shape before and after cleaning\n",
    "print(\"DataFrame Shape Summary\")\n",
    "print(\"-\" * 30)\n",
    "print(f\"Before Cleaning : {rows:,} rows × {cols:,} columns\")\n",
    "print(f\"After Cleaning  : {af_rows:,} rows × {af_cols:,} columns\")\n"
   ]
  },
  {
   "cell_type": "markdown",
   "id": "09ad4beb-aafa-40ab-a6e7-198b2508f07f",
   "metadata": {},
   "source": [
    "### Convert 'year' to datetime"
   ]
  },
  {
   "cell_type": "code",
   "execution_count": 13,
   "id": "12",
   "metadata": {},
   "outputs": [
    {
     "name": "stdout",
     "output_type": "stream",
     "text": [
      "Before Conversion: float64\n",
      "After Conversion : datetime64[ns]\n"
     ]
    }
   ],
   "source": [
    "# Convert 'year' to datetime\n",
    "print(f\"Before Conversion: {df['year'].dtype}\")\n",
    "\n",
    "# Convert 'year' to datetime\n",
    "df['year'] = pd.to_datetime(df['year'], format='%Y', errors='coerce')\n",
    "print(f\"After Conversion : {df['year'].dtype}\")"
   ]
  },
  {
   "cell_type": "markdown",
   "id": "302a49d2-09cd-4b88-a3c1-5774a59d1a59",
   "metadata": {},
   "source": [
    "### Convert 'fall' column to binary encoding"
   ]
  },
  {
   "cell_type": "code",
   "execution_count": 14,
   "id": "b123a0e6-21c3-4352-a56f-97db2c7e7f5f",
   "metadata": {},
   "outputs": [
    {
     "name": "stdout",
     "output_type": "stream",
     "text": [
      "['Fell' 'Found']\n",
      "0        1\n",
      "1        1\n",
      "2        1\n",
      "3        1\n",
      "4        1\n",
      "        ..\n",
      "45711    0\n",
      "45712    0\n",
      "45713    0\n",
      "45714    0\n",
      "45715    0\n",
      "Name: fall, Length: 38115, dtype: int64\n",
      "After Conversion : 0\n"
     ]
    }
   ],
   "source": [
    "df['fall'] = df['fall'].str.strip().str.capitalize()\n",
    "print(df['fall'].unique())\n",
    "\n",
    "df['fall'] = df['fall'].map({'Fell': 1, 'Found': 0})\n",
    "#checking values correctness after conversion\n",
    "print(df['fall'])\n",
    "print(f\"After Conversion : {df['fall'].isnull().sum()}\")"
   ]
  },
  {
   "cell_type": "code",
   "execution_count": 15,
   "id": "13",
   "metadata": {},
   "outputs": [
    {
     "data": {
      "text/html": [
       "<div>\n",
       "<style scoped>\n",
       "    .dataframe tbody tr th:only-of-type {\n",
       "        vertical-align: middle;\n",
       "    }\n",
       "\n",
       "    .dataframe tbody tr th {\n",
       "        vertical-align: top;\n",
       "    }\n",
       "\n",
       "    .dataframe thead th {\n",
       "        text-align: right;\n",
       "    }\n",
       "</style>\n",
       "<table border=\"1\" class=\"dataframe\">\n",
       "  <thead>\n",
       "    <tr style=\"text-align: right;\">\n",
       "      <th></th>\n",
       "      <th>name</th>\n",
       "      <th>id</th>\n",
       "      <th>nametype</th>\n",
       "      <th>recclass</th>\n",
       "      <th>mass (g)</th>\n",
       "      <th>fall</th>\n",
       "      <th>year</th>\n",
       "      <th>reclat</th>\n",
       "      <th>reclong</th>\n",
       "      <th>GeoLocation</th>\n",
       "    </tr>\n",
       "  </thead>\n",
       "  <tbody>\n",
       "    <tr>\n",
       "      <th>0</th>\n",
       "      <td>Aachen</td>\n",
       "      <td>1</td>\n",
       "      <td>Valid</td>\n",
       "      <td>L5</td>\n",
       "      <td>21.0</td>\n",
       "      <td>1</td>\n",
       "      <td>1880-01-01</td>\n",
       "      <td>50.77500</td>\n",
       "      <td>6.08333</td>\n",
       "      <td>(50.775, 6.08333)</td>\n",
       "    </tr>\n",
       "    <tr>\n",
       "      <th>1</th>\n",
       "      <td>Aarhus</td>\n",
       "      <td>2</td>\n",
       "      <td>Valid</td>\n",
       "      <td>H6</td>\n",
       "      <td>720.0</td>\n",
       "      <td>1</td>\n",
       "      <td>1951-01-01</td>\n",
       "      <td>56.18333</td>\n",
       "      <td>10.23333</td>\n",
       "      <td>(56.18333, 10.23333)</td>\n",
       "    </tr>\n",
       "    <tr>\n",
       "      <th>2</th>\n",
       "      <td>Abee</td>\n",
       "      <td>6</td>\n",
       "      <td>Valid</td>\n",
       "      <td>EH4</td>\n",
       "      <td>107000.0</td>\n",
       "      <td>1</td>\n",
       "      <td>1952-01-01</td>\n",
       "      <td>54.21667</td>\n",
       "      <td>-113.00000</td>\n",
       "      <td>(54.21667, -113.0)</td>\n",
       "    </tr>\n",
       "    <tr>\n",
       "      <th>3</th>\n",
       "      <td>Acapulco</td>\n",
       "      <td>10</td>\n",
       "      <td>Valid</td>\n",
       "      <td>Acapulcoite</td>\n",
       "      <td>1914.0</td>\n",
       "      <td>1</td>\n",
       "      <td>1976-01-01</td>\n",
       "      <td>16.88333</td>\n",
       "      <td>-99.90000</td>\n",
       "      <td>(16.88333, -99.9)</td>\n",
       "    </tr>\n",
       "    <tr>\n",
       "      <th>4</th>\n",
       "      <td>Achiras</td>\n",
       "      <td>370</td>\n",
       "      <td>Valid</td>\n",
       "      <td>L6</td>\n",
       "      <td>780.0</td>\n",
       "      <td>1</td>\n",
       "      <td>1902-01-01</td>\n",
       "      <td>-33.16667</td>\n",
       "      <td>-64.95000</td>\n",
       "      <td>(-33.16667, -64.95)</td>\n",
       "    </tr>\n",
       "    <tr>\n",
       "      <th>...</th>\n",
       "      <td>...</td>\n",
       "      <td>...</td>\n",
       "      <td>...</td>\n",
       "      <td>...</td>\n",
       "      <td>...</td>\n",
       "      <td>...</td>\n",
       "      <td>...</td>\n",
       "      <td>...</td>\n",
       "      <td>...</td>\n",
       "      <td>...</td>\n",
       "    </tr>\n",
       "    <tr>\n",
       "      <th>45711</th>\n",
       "      <td>Zillah 002</td>\n",
       "      <td>31356</td>\n",
       "      <td>Valid</td>\n",
       "      <td>Eucrite</td>\n",
       "      <td>172.0</td>\n",
       "      <td>0</td>\n",
       "      <td>1990-01-01</td>\n",
       "      <td>29.03700</td>\n",
       "      <td>17.01850</td>\n",
       "      <td>(29.037, 17.0185)</td>\n",
       "    </tr>\n",
       "    <tr>\n",
       "      <th>45712</th>\n",
       "      <td>Zinder</td>\n",
       "      <td>30409</td>\n",
       "      <td>Valid</td>\n",
       "      <td>Pallasite, ungrouped</td>\n",
       "      <td>46.0</td>\n",
       "      <td>0</td>\n",
       "      <td>1999-01-01</td>\n",
       "      <td>13.78333</td>\n",
       "      <td>8.96667</td>\n",
       "      <td>(13.78333, 8.96667)</td>\n",
       "    </tr>\n",
       "    <tr>\n",
       "      <th>45713</th>\n",
       "      <td>Zlin</td>\n",
       "      <td>30410</td>\n",
       "      <td>Valid</td>\n",
       "      <td>H4</td>\n",
       "      <td>3.3</td>\n",
       "      <td>0</td>\n",
       "      <td>1939-01-01</td>\n",
       "      <td>49.25000</td>\n",
       "      <td>17.66667</td>\n",
       "      <td>(49.25, 17.66667)</td>\n",
       "    </tr>\n",
       "    <tr>\n",
       "      <th>45714</th>\n",
       "      <td>Zubkovsky</td>\n",
       "      <td>31357</td>\n",
       "      <td>Valid</td>\n",
       "      <td>L6</td>\n",
       "      <td>2167.0</td>\n",
       "      <td>0</td>\n",
       "      <td>2003-01-01</td>\n",
       "      <td>49.78917</td>\n",
       "      <td>41.50460</td>\n",
       "      <td>(49.78917, 41.5046)</td>\n",
       "    </tr>\n",
       "    <tr>\n",
       "      <th>45715</th>\n",
       "      <td>Zulu Queen</td>\n",
       "      <td>30414</td>\n",
       "      <td>Valid</td>\n",
       "      <td>L3.7</td>\n",
       "      <td>200.0</td>\n",
       "      <td>0</td>\n",
       "      <td>1976-01-01</td>\n",
       "      <td>33.98333</td>\n",
       "      <td>-115.68333</td>\n",
       "      <td>(33.98333, -115.68333)</td>\n",
       "    </tr>\n",
       "  </tbody>\n",
       "</table>\n",
       "<p>38115 rows × 10 columns</p>\n",
       "</div>"
      ],
      "text/plain": [
       "             name     id nametype              recclass  mass (g)  fall  \\\n",
       "0          Aachen      1    Valid                    L5      21.0     1   \n",
       "1          Aarhus      2    Valid                    H6     720.0     1   \n",
       "2            Abee      6    Valid                   EH4  107000.0     1   \n",
       "3        Acapulco     10    Valid           Acapulcoite    1914.0     1   \n",
       "4         Achiras    370    Valid                    L6     780.0     1   \n",
       "...           ...    ...      ...                   ...       ...   ...   \n",
       "45711  Zillah 002  31356    Valid               Eucrite     172.0     0   \n",
       "45712      Zinder  30409    Valid  Pallasite, ungrouped      46.0     0   \n",
       "45713        Zlin  30410    Valid                    H4       3.3     0   \n",
       "45714   Zubkovsky  31357    Valid                    L6    2167.0     0   \n",
       "45715  Zulu Queen  30414    Valid                  L3.7     200.0     0   \n",
       "\n",
       "            year    reclat    reclong             GeoLocation  \n",
       "0     1880-01-01  50.77500    6.08333       (50.775, 6.08333)  \n",
       "1     1951-01-01  56.18333   10.23333    (56.18333, 10.23333)  \n",
       "2     1952-01-01  54.21667 -113.00000      (54.21667, -113.0)  \n",
       "3     1976-01-01  16.88333  -99.90000       (16.88333, -99.9)  \n",
       "4     1902-01-01 -33.16667  -64.95000     (-33.16667, -64.95)  \n",
       "...          ...       ...        ...                     ...  \n",
       "45711 1990-01-01  29.03700   17.01850       (29.037, 17.0185)  \n",
       "45712 1999-01-01  13.78333    8.96667     (13.78333, 8.96667)  \n",
       "45713 1939-01-01  49.25000   17.66667       (49.25, 17.66667)  \n",
       "45714 2003-01-01  49.78917   41.50460     (49.78917, 41.5046)  \n",
       "45715 1976-01-01  33.98333 -115.68333  (33.98333, -115.68333)  \n",
       "\n",
       "[38115 rows x 10 columns]"
      ]
     },
     "execution_count": 15,
     "metadata": {},
     "output_type": "execute_result"
    }
   ],
   "source": [
    "# Display the cleaned data\n",
    "df"
   ]
  },
  {
   "cell_type": "markdown",
   "id": "14",
   "metadata": {},
   "source": [
    "## Exploratory Data Analysis (EDA)"
   ]
  },
  {
   "cell_type": "code",
   "execution_count": 16,
   "id": "15",
   "metadata": {},
   "outputs": [
    {
     "name": "stdout",
     "output_type": "stream",
     "text": [
      "nametype\n",
      "Valid     38094\n",
      "Relict       21\n",
      "Name: count, dtype: int64\n",
      "------------------------------\n",
      "fall\n",
      "0    37050\n",
      "1     1065\n",
      "Name: count, dtype: int64\n"
     ]
    }
   ],
   "source": [
    "print(df['nametype'].value_counts())\n",
    "print(\"-\" * 30)\n",
    "print(df['fall'].value_counts())  # 'Fell' vs 'Found'\n"
   ]
  },
  {
   "cell_type": "markdown",
   "id": "16",
   "metadata": {},
   "source": [
    "### Univariate Analysis"
   ]
  },
  {
   "cell_type": "markdown",
   "id": "17",
   "metadata": {},
   "source": [
    "#### Fell vs Found Comparison"
   ]
  },
  {
   "cell_type": "code",
   "execution_count": 17,
   "id": "18",
   "metadata": {},
   "outputs": [
    {
     "data": {
      "image/png": "[encoded data removed]",
      "text/plain": [
       "<Figure size 640x480 with 1 Axes>"
      ]
     },
     "metadata": {},
     "output_type": "display_data"
    }
   ],
   "source": [
    "# Count plot for fall status\n",
    "sns.countplot(x='fall', data=df)\n",
    "plt.title(\"Fell vs Found Meteorites\")\n",
    "plt.show()"
   ]
  },
  {
   "cell_type": "markdown",
   "id": "19",
   "metadata": {},
   "source": [
    "#### Histogram for mass (g)"
   ]
  },
  {
   "cell_type": "code",
   "execution_count": 18,
   "id": "20",
   "metadata": {},
   "outputs": [
    {
     "data": {
      "image/png": "[encoded data removed]",
      "text/plain": [
       "<Figure size 1000x600 with 1 Axes>"
      ]
     },
     "metadata": {},
     "output_type": "display_data"
    }
   ],
   "source": [
    "plt.figure(figsize=(10, 6))\n",
    "sns.histplot(np.log1p(df['mass (g)']), bins=50, kde=True, color='blue')\n",
    "plt.xlabel('Log Mass (g)')\n",
    "plt.ylabel('Frequency')\n",
    "plt.title('Distribution of Meteorite Mass (Log Scale)')\n",
    "plt.show()"
   ]
  },
  {
   "cell_type": "code",
   "execution_count": 19,
   "id": "21",
   "metadata": {},
   "outputs": [
    {
     "data": {
      "text/html": [
       "<iframe\n",
       "    scrolling=\"no\"\n",
       "    width=\"100%\"\n",
       "    height=\"620\"\n",
       "    src=\"iframe_figures/figure_19.html\"\n",
       "    frameborder=\"0\"\n",
       "    allowfullscreen\n",
       "></iframe>\n"
      ]
     },
     "metadata": {},
     "output_type": "display_data"
    }
   ],
   "source": [
    "# Create an interactive map\n",
    "fig = px.scatter_geo(df,\n",
    "                     lon='reclong',\n",
    "                     lat='reclat',\n",
    "                     color='fall',\n",
    "                     hover_name='name',\n",
    "                     hover_data=['mass (g)', 'recclass'],\n",
    "                     projection='natural earth',\n",
    "                     title='Meteorite Falls vs Found Map')\n",
    "\n",
    "# Update layout\n",
    "fig.update_geos(showcountries=True, showland=True, landcolor=\"lightgray\", showocean=True, oceancolor=\"lightblue\")\n",
    "fig.update_layout(height=600, margin={\"r\": 0, \"t\": 30, \"l\": 0, \"b\": 0})\n",
    "\n",
    "# Show the map\n",
    "fig.show()"
   ]
  },
  {
   "cell_type": "code",
   "execution_count": 20,
   "id": "22",
   "metadata": {},
   "outputs": [
    {
     "data": {
      "image/png": "[encoded data removed]",
      "text/plain": [
       "<Figure size 640x480 with 2 Axes>"
      ]
     },
     "metadata": {},
     "output_type": "display_data"
    },
    {
     "name": "stdout",
     "output_type": "stream",
     "text": [
      "                id  mass (g)      fall    reclat   reclong\n",
      "id        1.000000 -0.017916 -0.086009  0.267175 -0.335238\n",
      "mass (g) -0.017916  1.000000  0.008604  0.029235 -0.021854\n",
      "fall     -0.086009  0.008604  1.000000  0.255963 -0.086060\n",
      "reclat    0.267175  0.029235  0.255963  1.000000 -0.593234\n",
      "reclong  -0.335238 -0.021854 -0.086060 -0.593234  1.000000\n"
     ]
    }
   ],
   "source": [
    "# Visualize the correlation between numeric features\n",
    "numeric_df = df.select_dtypes(include=[np.number])\n",
    "correlation_matrix = numeric_df.corr()\n",
    "sns.heatmap(correlation_matrix, annot=True, cmap='coolwarm')\n",
    "plt.title('Correlation Heatmap')\n",
    "plt.show()\n",
    "print(correlation_matrix)"
   ]
  },
  {
   "cell_type": "code",
   "execution_count": 32,
   "id": "23",
   "metadata": {},
   "outputs": [
    {
     "name": "stderr",
     "output_type": "stream",
     "text": [
      "C:\\Users\\tiagrajah.MYAGR-LPWIN-072\\AppData\\Local\\Temp\\ipykernel_29844\\4240940498.py:11: DeprecationWarning:\n",
      "\n",
      "*scatter_mapbox* is deprecated! Use *scatter_map* instead. Learn more at: https://plotly.com/python/mapbox-to-maplibre/\n",
      "\n"
     ]
    },
    {
     "data": {
      "text/html": [
       "<iframe\n",
       "    scrolling=\"no\"\n",
       "    width=\"100%\"\n",
       "    height=\"820\"\n",
       "    src=\"iframe_figures/figure_32.html\"\n",
       "    frameborder=\"0\"\n",
       "    allowfullscreen\n",
       "></iframe>\n"
      ]
     },
     "metadata": {},
     "output_type": "display_data"
    }
   ],
   "source": [
    "# Convert 'year' to datetime and extract year as integer\n",
    "df['year'] = pd.to_datetime(df['year'], errors='coerce')\n",
    "df['year_int'] = df['year'].dt.year\n",
    "\n",
    "# Filter using the integer year\n",
    "df_recent = df[(df['year_int'] > 1970) & (df['year_int'] < 2025)]\n",
    "\n",
    "# Now plot with Plotly\n",
    "import plotly.express as px\n",
    "\n",
    "fig = px.scatter_mapbox(\n",
    "    data_frame=df_recent,\n",
    "    lat='reclat',\n",
    "    lon='reclong',\n",
    "    color='year_int',              # or use 'year' if you prefer a datetime color scale\n",
    "    size='mass (g)',\n",
    "    size_max=15,\n",
    "    hover_name='name',\n",
    "    hover_data={\n",
    "        'recclass': True,\n",
    "        'mass (g)': True,\n",
    "        'year_int': True\n",
    "    },\n",
    "    mapbox_style='carto-darkmatter',\n",
    "    zoom=1,\n",
    "    center={'lat': 0, 'lon': 0},\n",
    "    title=\"Meteorite Falls (1970 - 2024) Visualized on Map\",\n",
    "    height=800,\n",
    "    color_continuous_scale='Viridis'\n",
    ")\n",
    "\n",
    "fig.show()"
   ]
  },
  {
   "cell_type": "code",
   "execution_count": 22,
   "id": "24",
   "metadata": {},
   "outputs": [
    {
     "name": "stdout",
     "output_type": "stream",
     "text": [
      "Hello\n"
     ]
    }
   ],
   "source": [
    "print(\"Hello\")"
   ]
  },
  {
   "cell_type": "code",
   "execution_count": 23,
   "id": "25",
   "metadata": {},
   "outputs": [
    {
     "data": {
      "image/png": "[encoded data removed]",
      "text/plain": [
       "<Figure size 1200x600 with 1 Axes>"
      ]
     },
     "metadata": {},
     "output_type": "display_data"
    }
   ],
   "source": [
    "falls_over_time = df.groupby(df['year'].dt.year).size()\n",
    "\n",
    "plt.figure(figsize=(12, 6))\n",
    "plt.plot(falls_over_time.index, falls_over_time.values, marker='o')\n",
    "plt.title('Number of Meteorite Falls Over Time')\n",
    "plt.xlabel('Year')\n",
    "plt.ylabel('Number of Meteorites')\n",
    "# plt.tight_layout()\n",
    "plt.show()"
   ]
  },
  {
   "cell_type": "code",
   "execution_count": 24,
   "id": "26",
   "metadata": {},
   "outputs": [
    {
     "data": {
      "image/png": "[encoded data removed]",
      "text/plain": [
       "<Figure size 800x600 with 1 Axes>"
      ]
     },
     "metadata": {},
     "output_type": "display_data"
    }
   ],
   "source": [
    "plt.figure(figsize=(8, 6))\n",
    "sns.boxplot(x='fall', y='mass (g)', data=df)\n",
    "plt.title('Mass of Meteorites by Fall Type')\n",
    "plt.xlabel('Fall Type')\n",
    "plt.ylabel('Mass in grams')\n",
    "plt.tight_layout()\n",
    "plt.show()"
   ]
  },
  {
   "cell_type": "markdown",
   "id": "4c733997-aaf7-46d7-b27b-ebf97cc02629",
   "metadata": {},
   "source": [
    "### Trying smtg for Q2"
   ]
  },
  {
   "cell_type": "code",
   "execution_count": 25,
   "id": "7306be78-8632-45f7-821c-65fa7d847575",
   "metadata": {
    "scrolled": true
   },
   "outputs": [
    {
     "name": "stderr",
     "output_type": "stream",
     "text": [
      "C:\\Users\\tiagrajah.MYAGR-LPWIN-072\\AppData\\Local\\Temp\\ipykernel_29844\\1330493566.py:8: DeprecationWarning:\n",
      "\n",
      "*scatter_mapbox* is deprecated! Use *scatter_map* instead. Learn more at: https://plotly.com/python/mapbox-to-maplibre/\n",
      "\n"
     ]
    },
    {
     "data": {
      "text/html": [
       "<iframe\n",
       "    scrolling=\"no\"\n",
       "    width=\"100%\"\n",
       "    height=\"720\"\n",
       "    src=\"iframe_figures/figure_25.html\"\n",
       "    frameborder=\"0\"\n",
       "    allowfullscreen\n",
       "></iframe>\n"
      ]
     },
     "metadata": {},
     "output_type": "display_data"
    }
   ],
   "source": [
    "mass_bins = [0, 1000, 10000, 50000, df['mass (g)'].max()]\n",
    "bin_labels = ['Small', 'Medium', 'Large', 'Very Large']\n",
    "\n",
    "# Im creating a new column here based on the bins\n",
    "df['mass_category'] = pd.cut(df['mass (g)'], bins=mass_bins, labels=bin_labels, include_lowest=True) \n",
    "#df['mass_category'].head(20) #checking values\n",
    "\n",
    "fig = px.scatter_mapbox(\n",
    "    df,\n",
    "    lat='reclat',\n",
    "    lon='reclong',\n",
    "    color='mass_category', \n",
    "    size='mass (g)',\n",
    "    size_max=20,\n",
    "    mapbox_style='carto-positron',\n",
    "    title='Meteorite Locations by Mass Category',\n",
    "    zoom=1,\n",
    "    height=700,\n",
    "    hover_name='name',\n",
    "    hover_data=['mass (g)', 'recclass'],\n",
    "    category_orders={\n",
    "        'mass_category': ['Small', 'Medium', 'Large', 'Very Large']  # 👈 desired order\n",
    "    }\n",
    ")\n",
    "fig.show()"
   ]
  },
  {
   "cell_type": "code",
   "execution_count": 26,
   "id": "42b5a0d6-6085-47e6-b447-573d921b66eb",
   "metadata": {},
   "outputs": [
    {
     "data": {
      "image/png": "[encoded data removed]",
      "text/plain": [
       "<Figure size 1200x600 with 1 Axes>"
      ]
     },
     "metadata": {},
     "output_type": "display_data"
    }
   ],
   "source": [
    "top_classes = df['recclass'].value_counts().nlargest(10).index\n",
    "df_top = df[df['recclass'].isin(top_classes)]\n",
    "\n",
    "plt.figure(figsize=(12, 6))\n",
    "sns.countplot(data=df_top, x='recclass', hue='mass_category')  # or mass_quartile\n",
    "plt.title('Meteorite Classification by Mass Category')\n",
    "plt.xticks(rotation=45)\n",
    "plt.tight_layout()\n",
    "plt.show()\n"
   ]
  },
  {
   "cell_type": "code",
   "execution_count": null,
   "id": "2c53b266-b832-4125-be57-f6f50d369b0b",
   "metadata": {},
   "outputs": [],
   "source": []
  },
  {
   "cell_type": "code",
   "execution_count": null,
   "id": "b44141cd-70b8-4625-9cbf-e748652ab75f",
   "metadata": {},
   "outputs": [],
   "source": []
  },
  {
   "cell_type": "code",
   "execution_count": null,
   "id": "f4016c2e-8a54-4d90-9748-ecaf2e4a83b5",
   "metadata": {},
   "outputs": [],
   "source": []
  },
  {
   "cell_type": "code",
   "execution_count": null,
   "id": "dd404965-7b67-4239-a547-66f80fe9dbb4",
   "metadata": {},
   "outputs": [],
   "source": []
  },
  {
   "cell_type": "markdown",
   "id": "b735561e-12d1-4c5b-b0a1-c9995caa70ef",
   "metadata": {},
   "source": [
    "### Question 4: How accurately can classification models predict whether a meteorite fell or was found, using its mass, classification type, and geographic coordinates as input features?"
   ]
  },
  {
   "cell_type": "markdown",
   "id": "6366dec7-bce8-4bc8-9435-aae3c61428d3",
   "metadata": {},
   "source": [
    "# Predicting Meteorite Origin: Classification Models\n",
    "\n",
    "## Objective\n",
    "**Question**: How accurately can classification models predict whether a meteorite **fell** or was **found**, using its:\n",
    "- `mass (g)`\n",
    "- `classification type` (`recclass`)\n",
    "- `geographic coordinates` (`reclat`, `reclong`)\n",
    "\n",
    "The goal is to apply and compare different classification algorithms to determine which model best predicts the fall status (`fall` column) of meteorites.\n",
    "\n",
    "We will explore the following models:\n",
    "1. **Logistic Regression**\n",
    "2. **Random Forest Classifier**\n",
    "3. **Support Vector Machine (SVM)**\n",
    "\n",
    "Each model will be evaluated using:\n",
    "- Confusion Matrix\n",
    "- Classification Report (Precision, Recall, F1-score)\n",
    "- Visualizations\n"
   ]
  },
  {
   "cell_type": "markdown",
   "id": "41fc86a0-62e2-40a5-9120-5850f9b284d4",
   "metadata": {},
   "source": [
    "### Machine Learning Model"
   ]
  },
  {
   "cell_type": "code",
   "execution_count": 64,
   "id": "a216ff64-4d48-4719-87ff-802fd7ff3225",
   "metadata": {},
   "outputs": [],
   "source": [
    "from sklearn.model_selection import train_test_split\n",
    "from sklearn.preprocessing import LabelEncoder, StandardScaler\n",
    "from sklearn.linear_model import LogisticRegression\n",
    "from sklearn.metrics import classification_report, confusion_matrix,classification_report\n",
    "\n",
    "\n",
    "# Drop irrelevant columns\n",
    "df = df[['mass (g)', 'recclass', 'reclat', 'reclong', 'fall']].dropna()\n",
    "\n",
    "# Encode categorical feature\n",
    "df['recclass'] = LabelEncoder().fit_transform(df['recclass'])\n",
    "\n",
    "# Features and target\n",
    "X = df[['mass (g)', 'recclass', 'reclat', 'reclong']]\n",
    "y = df['fall']\n",
    "\n",
    "# Train-test split\n",
    "X_train, X_test, y_train, y_test = train_test_split(X, y, test_size=0.3, random_state=42)\n",
    "\n",
    "# Feature scaling\n",
    "scaler = StandardScaler()\n",
    "X_train_scaled = scaler.fit_transform(X_train)\n",
    "X_test_scaled = scaler.transform(X_test)\n"
   ]
  },
  {
   "cell_type": "markdown",
   "id": "821dbc69-6a3d-43ee-bbdb-38fc4975e134",
   "metadata": {},
   "source": [
    "#### Logistic Regression"
   ]
  },
  {
   "cell_type": "code",
   "execution_count": 71,
   "id": "553c5173-ab25-4d2e-9cbb-72564dc9e5ae",
   "metadata": {},
   "outputs": [
    {
     "name": "stdout",
     "output_type": "stream",
     "text": [
      "📘 Logistic Regression Confusion Matrix:\n",
      "                   Predicted: Found (0)  Predicted: Fell (1)\n",
      "Actual: Found (0)                 11100                   13\n",
      "Actual: Fell (1)                    313                    9\n",
      "\n",
      "📊 Classification Report:\n",
      "              precision    recall  f1-score   support\n",
      "\n",
      "       Found       0.97      1.00      0.99     11113\n",
      "        Fell       0.41      0.03      0.05       322\n",
      "\n",
      "    accuracy                           0.97     11435\n",
      "   macro avg       0.69      0.51      0.52     11435\n",
      "weighted avg       0.96      0.97      0.96     11435\n",
      "\n"
     ]
    }
   ],
   "source": [
    "# Train Logistic Regression model\n",
    "lr_model = LogisticRegression()\n",
    "lr_model.fit(X_train_scaled, y_train)\n",
    "\n",
    "# Predict\n",
    "lr_pred = lr_model.predict(X_test_scaled)\n",
    "\n",
    "# Save classification report\n",
    "lr_report = classification_report(y_test, lr_pred, target_names=[\"Found\", \"Fell\"], output_dict=True)\n",
    "\n",
    "# Confusion Matrix\n",
    "lr_cm = confusion_matrix(y_test, lr_pred)\n",
    "lr_cm_df = pd.DataFrame(lr_cm, index=['Actual: Found (0)', 'Actual: Fell (1)'],\n",
    "                                   columns=['Predicted: Found (0)', 'Predicted: Fell (1)'])\n",
    "\n",
    "# Print results\n",
    "print(\"📘 Logistic Regression Confusion Matrix:\")\n",
    "print(lr_cm_df)\n",
    "print(\"\\n📊 Classification Report:\")\n",
    "print(classification_report(y_test, lr_pred, target_names=[\"Found\", \"Fell\"]))"
   ]
  },
  {
   "cell_type": "markdown",
   "id": "3b9e2508-70e0-4fd1-9853-250b0e7fa991",
   "metadata": {},
   "source": [
    "# Random Forest"
   ]
  },
  {
   "cell_type": "code",
   "execution_count": 70,
   "id": "6cf85b5b-39c8-470b-9f20-ff9faa6338ed",
   "metadata": {},
   "outputs": [
    {
     "name": "stdout",
     "output_type": "stream",
     "text": [
      "🌳 Random Forest Confusion Matrix:\n",
      "                   Predicted: Found (0)  Predicted: Fell (1)\n",
      "Actual: Found (0)                 11066                   47\n",
      "Actual: Fell (1)                     88                  234\n",
      "\n",
      "📊 Classification Report:\n",
      "              precision    recall  f1-score   support\n",
      "\n",
      "       Found       0.99      1.00      0.99     11113\n",
      "        Fell       0.83      0.73      0.78       322\n",
      "\n",
      "    accuracy                           0.99     11435\n",
      "   macro avg       0.91      0.86      0.89     11435\n",
      "weighted avg       0.99      0.99      0.99     11435\n",
      "\n"
     ]
    }
   ],
   "source": [
    "from sklearn.ensemble import RandomForestClassifier\n",
    "from sklearn.metrics import classification_report, confusion_matrix\n",
    "import pandas as pd\n",
    "\n",
    "# Train Random Forest model\n",
    "rf_model = RandomForestClassifier(random_state=42, n_estimators=100)\n",
    "rf_model.fit(X_train_scaled, y_train)\n",
    "\n",
    "# Predict\n",
    "rf_pred = rf_model.predict(X_test_scaled)\n",
    "\n",
    "# Save classification report for later comparison\n",
    "rf_report = classification_report(y_test, rf_pred, target_names=[\"Found\", \"Fell\"], output_dict=True)\n",
    "\n",
    "# Confusion Matrix\n",
    "rf_cm = confusion_matrix(y_test, rf_pred)\n",
    "rf_cm_df = pd.DataFrame(rf_cm, index=['Actual: Found (0)', 'Actual: Fell (1)'],\n",
    "                                  columns=['Predicted: Found (0)', 'Predicted: Fell (1)'])\n",
    "\n",
    "# Print results\n",
    "print(\"🌳 Random Forest Confusion Matrix:\")\n",
    "print(rf_cm_df)\n",
    "print(\"\\n📊 Classification Report:\")\n",
    "print(classification_report(y_test, rf_pred, target_names=[\"Found\", \"Fell\"]))\n"
   ]
  },
  {
   "cell_type": "markdown",
   "id": "176169dc-5157-4a49-972a-a912d025ed43",
   "metadata": {},
   "source": [
    "# SVM"
   ]
  },
  {
   "cell_type": "code",
   "execution_count": 72,
   "id": "6eaab8f7-6cde-4fa5-95f5-5277d0ee42a5",
   "metadata": {},
   "outputs": [
    {
     "name": "stdout",
     "output_type": "stream",
     "text": [
      "🔲 SVM Confusion Matrix:\n",
      "                   Predicted: Found (0)  Predicted: Fell (1)\n",
      "Actual: Found (0)                 11088                   25\n",
      "Actual: Fell (1)                    252                   70\n",
      "\n",
      "📊 Classification Report:\n",
      "              precision    recall  f1-score   support\n",
      "\n",
      "       Found       0.98      1.00      0.99     11113\n",
      "        Fell       0.74      0.22      0.34       322\n",
      "\n",
      "    accuracy                           0.98     11435\n",
      "   macro avg       0.86      0.61      0.66     11435\n",
      "weighted avg       0.97      0.98      0.97     11435\n",
      "\n"
     ]
    }
   ],
   "source": [
    "# Train SVM model\n",
    "svm_model = SVC(kernel='rbf', random_state=42)\n",
    "svm_model.fit(X_train_scaled, y_train)\n",
    "\n",
    "# Predict\n",
    "svm_pred = svm_model.predict(X_test_scaled)\n",
    "\n",
    "# Save classification report\n",
    "svm_report = classification_report(y_test, svm_pred, target_names=[\"Found\", \"Fell\"], output_dict=True)\n",
    "\n",
    "# Confusion Matrix\n",
    "svm_cm = confusion_matrix(y_test, svm_pred)\n",
    "svm_cm_df = pd.DataFrame(svm_cm, index=['Actual: Found (0)', 'Actual: Fell (1)'],\n",
    "                                     columns=['Predicted: Found (0)', 'Predicted: Fell (1)'])\n",
    "\n",
    "# Print results\n",
    "print(\"🔲 SVM Confusion Matrix:\")\n",
    "print(svm_cm_df)\n",
    "print(\"\\n📊 Classification Report:\")\n",
    "print(classification_report(y_test, svm_pred, target_names=[\"Found\", \"Fell\"]))"
   ]
  },
  {
   "cell_type": "markdown",
   "id": "c7cc145c-c5cd-4c25-8564-f05636a236ea",
   "metadata": {},
   "source": [
    "### Visual Comparison of Confusion Matrices\n",
    "\n",
    "Below are the confusion matrices for the three models. Logistic Regression, Random Forest, and SVM. These matrices visually represent how well each model performed in classifying the meteorites as \"Found\" or \"Fell\"."
   ]
  },
  {
   "cell_type": "code",
   "execution_count": 75,
   "id": "e2637c60-0d3f-4385-8fe2-4b5a173d6aae",
   "metadata": {},
   "outputs": [
    {
     "data": {
      "image/png": "[encoded data removed]",
      "text/plain": [
       "<Figure size 1800x500 with 6 Axes>"
      ]
     },
     "metadata": {},
     "output_type": "display_data"
    }
   ],
   "source": [
    "fig, axes = plt.subplots(1, 3, figsize=(18, 5))\n",
    "\n",
    "# Logistic Regression\n",
    "sns.heatmap(cm_df, annot=True, fmt='d', cmap='Blues', ax=axes[0])\n",
    "axes[0].set_title(\"Logistic Regression\")\n",
    "axes[0].set_xlabel(\"Predicted\")\n",
    "axes[0].set_ylabel(\"Actual\")\n",
    "\n",
    "# Random Forest\n",
    "sns.heatmap(rf_cm_df, annot=True, fmt='d', cmap='Greens', ax=axes[1])\n",
    "axes[1].set_title(\"Random Forest\")\n",
    "axes[1].set_xlabel(\"Predicted\")\n",
    "axes[1].set_ylabel(\"\")\n",
    "\n",
    "# SVM\n",
    "sns.heatmap(svm_cm_df, annot=True, fmt='d', cmap='Purples', ax=axes[2])\n",
    "axes[2].set_title(\"SVM\")\n",
    "axes[2].set_xlabel(\"Predicted\")\n",
    "axes[2].set_ylabel(\"\")\n",
    "\n",
    "plt.tight_layout()\n",
    "plt.show()"
   ]
  },
  {
   "cell_type": "code",
   "execution_count": 74,
   "id": "603c1239-38c0-4b96-a402-381cc19ecc60",
   "metadata": {},
   "outputs": [
    {
     "data": {
      "text/html": [
       "<div>\n",
       "<style scoped>\n",
       "    .dataframe tbody tr th:only-of-type {\n",
       "        vertical-align: middle;\n",
       "    }\n",
       "\n",
       "    .dataframe tbody tr th {\n",
       "        vertical-align: top;\n",
       "    }\n",
       "\n",
       "    .dataframe thead th {\n",
       "        text-align: right;\n",
       "    }\n",
       "</style>\n",
       "<table border=\"1\" class=\"dataframe\">\n",
       "  <thead>\n",
       "    <tr style=\"text-align: right;\">\n",
       "      <th></th>\n",
       "      <th>Accuracy</th>\n",
       "      <th>Precision (Fell)</th>\n",
       "      <th>Recall (Fell)</th>\n",
       "      <th>F1-Score (Fell)</th>\n",
       "    </tr>\n",
       "    <tr>\n",
       "      <th>Model</th>\n",
       "      <th></th>\n",
       "      <th></th>\n",
       "      <th></th>\n",
       "      <th></th>\n",
       "    </tr>\n",
       "  </thead>\n",
       "  <tbody>\n",
       "    <tr>\n",
       "      <th>Logistic Regression</th>\n",
       "      <td>0.971</td>\n",
       "      <td>0.409</td>\n",
       "      <td>0.028</td>\n",
       "      <td>0.052</td>\n",
       "    </tr>\n",
       "    <tr>\n",
       "      <th>Random Forest</th>\n",
       "      <td>0.988</td>\n",
       "      <td>0.833</td>\n",
       "      <td>0.727</td>\n",
       "      <td>0.776</td>\n",
       "    </tr>\n",
       "    <tr>\n",
       "      <th>SVM</th>\n",
       "      <td>0.976</td>\n",
       "      <td>0.737</td>\n",
       "      <td>0.217</td>\n",
       "      <td>0.336</td>\n",
       "    </tr>\n",
       "  </tbody>\n",
       "</table>\n",
       "</div>"
      ],
      "text/plain": [
       "                     Accuracy  Precision (Fell)  Recall (Fell)  \\\n",
       "Model                                                            \n",
       "Logistic Regression     0.971             0.409          0.028   \n",
       "Random Forest           0.988             0.833          0.727   \n",
       "SVM                     0.976             0.737          0.217   \n",
       "\n",
       "                     F1-Score (Fell)  \n",
       "Model                                 \n",
       "Logistic Regression            0.052  \n",
       "Random Forest                  0.776  \n",
       "SVM                            0.336  "
      ]
     },
     "metadata": {},
     "output_type": "display_data"
    }
   ],
   "source": [
    "comparison_df = pd.DataFrame({\n",
    "    \"Model\": [\"Logistic Regression\", \"Random Forest\", \"SVM\"],\n",
    "    \"Accuracy\": [lr_report['accuracy'], rf_report['accuracy'], svm_report['accuracy']],\n",
    "    \"Precision (Fell)\": [lr_report['Fell']['precision'], rf_report['Fell']['precision'], svm_report['Fell']['precision']],\n",
    "    \"Recall (Fell)\": [lr_report['Fell']['recall'], rf_report['Fell']['recall'], svm_report['Fell']['recall']],\n",
    "    \"F1-Score (Fell)\": [lr_report['Fell']['f1-score'], rf_report['Fell']['f1-score'], svm_report['Fell']['f1-score']]\n",
    "})\n",
    "\n",
    "comparison_df.set_index(\"Model\", inplace=True)\n",
    "comparison_df = comparison_df.round(3)\n",
    "display(comparison_df)"
   ]
  },
  {
   "cell_type": "markdown",
   "id": "de8d99fc-db5b-45a4-8179-2dfd41edb31b",
   "metadata": {},
   "source": [
    "### Interpretation:\n",
    "\n",
    "- **Logistic Regression** shows high overall accuracy but fails to capture \"Fell\" cases — very low recall and F1-score.\n",
    "- **SVM** improves on logistic regression but still underperforms in recall for the \"Fell\" class.\n",
    "- **Random Forest** clearly outperforms the others in all metrics related to the minority class (\"Fell\").\n",
    "\n",
    "---\n",
    "\n",
    "### Final Verdict:\n",
    "**Random Forest Classifier** is the best model for this classification task. It balances precision and recall effectively, especially for the underrepresented class, and delivers the most robust results.\n"
   ]
  },
  {
   "cell_type": "code",
   "execution_count": null,
   "id": "40a38875-ecd5-469e-9a59-883a7722ffe3",
   "metadata": {},
   "outputs": [],
   "source": []
  }
 ],
 "metadata": {
  "kernelspec": {
   "display_name": "Python 3 (ipykernel)",
   "language": "python",
   "name": "python3"
  },
  "language_info": {
   "codemirror_mode": {
    "name": "ipython",
    "version": 3
   },
   "file_extension": ".py",
   "mimetype": "text/x-python",
   "name": "python",
   "nbconvert_exporter": "python",
   "pygments_lexer": "ipython3",
   "version": "3.12.8"
  }
 },
 "nbformat": 4,
 "nbformat_minor": 5
}
